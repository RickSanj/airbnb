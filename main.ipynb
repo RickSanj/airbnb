{
 "cells": [
  {
   "cell_type": "code",
   "execution_count": 88,
   "metadata": {},
   "outputs": [],
   "source": [
    "#import libraries\n",
    "import pandas as pd\n",
    "import numpy as np\n",
    "import psycopg2\n",
    "import pyspark\n",
    "from pyspark.sql import SparkSession\n",
    "from sqlalchemy import create_engine\n",
    "from pyspark.sql.functions import isnan, when, count, col\n",
    "from pyspark.sql.functions import month, dayofmonth, dayofweek, hour, date_format\n",
    "from pyspark.sql.functions import avg, unix_timestamp, StringType, udf, coalesce, lit\n",
    "from pyspark.sql import functions as F"
   ]
  },
  {
   "cell_type": "markdown",
   "metadata": {},
   "source": [
    "# Extract data from CSV files"
   ]
  },
  {
   "cell_type": "code",
   "execution_count": 56,
   "metadata": {},
   "outputs": [],
   "source": [
    "spark = SparkSession.builder.appName(\"Proj\").getOrCreate()"
   ]
  },
  {
   "cell_type": "markdown",
   "metadata": {},
   "source": [
    "## contacts.csv"
   ]
  },
  {
   "cell_type": "code",
   "execution_count": 57,
   "metadata": {},
   "outputs": [
    {
     "name": "stdout",
     "output_type": "stream",
     "text": [
      "+--------------------+--------------------+--------------------+--------------------+-------------------+--------------------+-------------------+----------------+-----------------+--------+--------------+------------------------------------+---------------------+----------------------+\n",
      "|       id_guest_anon|        id_host_anon|     id_listing_anon|ts_interaction_first|  ts_reply_at_first|ts_accepted_at_first|      ts_booking_at|ds_checkin_first|ds_checkout_first|m_guests|m_interactions|m_first_message_length_in_characters|contact_channel_first|guest_user_stage_first|\n",
      "+--------------------+--------------------+--------------------+--------------------+-------------------+--------------------+-------------------+----------------+-----------------+--------+--------------+------------------------------------+---------------------+----------------------+\n",
      "|da8656a1-51af-4f3...|5426897d-960d-401...|a408a8b2-0d44-451...| 2016-04-21 02:55:53|2016-04-21 03:15:00| 2016-04-21 03:15:00|2016-04-21 03:15:00|      2016-08-02|       2016-08-06|     4.0|            30|                                31.0|              book_it|           past_booker|\n",
      "|8590d6f1-8bc9-4e8...|f30417c5-6df4-45a...|e387c705-0aeb-464...| 2016-02-16 22:14:01|2016-02-16 23:37:36|                NULL|               NULL|      2016-08-11|       2016-08-22|     5.0|             2|                               312.0|           contact_me|           past_booker|\n",
      "|ebcd83ba-bda1-47e...|13cbf50a-3272-45d...|d1eb1960-938f-430...| 2016-01-27 23:33:38|2016-01-28 02:12:47|                NULL|               NULL|      2016-03-14|       2016-03-23|     1.0|             3|                               164.0|           contact_me|                   new|\n",
      "|b0af8848-fe2a-4ef...|01614601-d5a4-477...|855f6779-346c-45f...| 2016-05-05 14:42:52|2016-05-05 15:17:40| 2016-05-05 15:17:40|               NULL|      2016-05-27|       2016-05-29|     2.0|             3|                               203.0|           contact_me|                   new|\n",
      "|5ddbbcc3-ac1a-4d8...|f2fed6f3-4c5c-453...|f2928a59-c5e7-42b...| 2016-06-23 03:09:25|2016-06-23 03:09:26| 2016-06-23 03:09:33|2016-06-23 03:09:33|      2016-08-19|       2016-08-21|     3.0|            25|                                 0.0|         instant_book|           past_booker|\n",
      "+--------------------+--------------------+--------------------+--------------------+-------------------+--------------------+-------------------+----------------+-----------------+--------+--------------+------------------------------------+---------------------+----------------------+\n",
      "only showing top 5 rows\n",
      "\n"
     ]
    }
   ],
   "source": [
    "df_con = spark.read.option('header', 'true').csv(\"data/contacts.csv\", inferSchema=True)\n",
    "df_con.show(5)"
   ]
  },
  {
   "cell_type": "code",
   "execution_count": 58,
   "metadata": {},
   "outputs": [
    {
     "name": "stdout",
     "output_type": "stream",
     "text": [
      "root\n",
      " |-- id_guest_anon: string (nullable = true)\n",
      " |-- id_host_anon: string (nullable = true)\n",
      " |-- id_listing_anon: string (nullable = true)\n",
      " |-- ts_interaction_first: timestamp (nullable = true)\n",
      " |-- ts_reply_at_first: timestamp (nullable = true)\n",
      " |-- ts_accepted_at_first: timestamp (nullable = true)\n",
      " |-- ts_booking_at: timestamp (nullable = true)\n",
      " |-- ds_checkin_first: date (nullable = true)\n",
      " |-- ds_checkout_first: date (nullable = true)\n",
      " |-- m_guests: double (nullable = true)\n",
      " |-- m_interactions: integer (nullable = true)\n",
      " |-- m_first_message_length_in_characters: double (nullable = true)\n",
      " |-- contact_channel_first: string (nullable = true)\n",
      " |-- guest_user_stage_first: string (nullable = true)\n",
      "\n"
     ]
    }
   ],
   "source": [
    "df_con.printSchema()"
   ]
  },
  {
   "cell_type": "code",
   "execution_count": 59,
   "metadata": {},
   "outputs": [
    {
     "name": "stdout",
     "output_type": "stream",
     "text": [
      "Number of duplicate rows: 0\n"
     ]
    }
   ],
   "source": [
    "count_dup_rows = df_con.count() - df_con.distinct().count()\n",
    "print(f\"Number of duplicate rows: {count_dup_rows}\")\n"
   ]
  },
  {
   "cell_type": "code",
   "execution_count": 60,
   "metadata": {},
   "outputs": [
    {
     "name": "stdout",
     "output_type": "stream",
     "text": [
      "Number of Null values in each column: \n",
      "id_guest_anon :  0\n",
      "id_host_anon :  0\n",
      "id_listing_anon :  0\n",
      "ts_interaction_first :  0\n",
      "ts_reply_at_first :  2032\n",
      "ts_accepted_at_first :  11472\n",
      "ts_booking_at :  16300\n",
      "ds_checkin_first :  0\n",
      "ds_checkout_first :  0\n",
      "m_guests :  1\n",
      "m_interactions :  0\n",
      "m_first_message_length_in_characters :  0\n",
      "contact_channel_first :  0\n",
      "guest_user_stage_first :  0\n"
     ]
    }
   ],
   "source": [
    "Dict_Null = {col:df_con.filter(df_con[col].isNull()).count() for col in df_con.columns}\n",
    "print(f\"Number of Null values in each column: \")\n",
    "for key, value in Dict_Null.items():\n",
    "    print(key, \": \", value)"
   ]
  },
  {
   "cell_type": "markdown",
   "metadata": {},
   "source": [
    "## listings.csv"
   ]
  },
  {
   "cell_type": "code",
   "execution_count": 61,
   "metadata": {},
   "outputs": [
    {
     "name": "stdout",
     "output_type": "stream",
     "text": [
      "+--------------------+---------------+--------------------+-------------+\n",
      "|     id_listing_anon|      room_type|listing_neighborhood|total_reviews|\n",
      "+--------------------+---------------+--------------------+-------------+\n",
      "|71582793-e5f8-46d...|   Private room|           -unknown-|          0.0|\n",
      "|a1a3f728-e21f-443...|Entire home/apt|          Copacabana|          0.0|\n",
      "|353a68be-ecf9-4b7...|Entire home/apt|     Barra da Tijuca|          3.0|\n",
      "|b9ae1908-0486-40a...|Entire home/apt|                Lapa|          4.0|\n",
      "|fa0290ef-7881-448...|Entire home/apt|           -unknown-|          0.0|\n",
      "+--------------------+---------------+--------------------+-------------+\n",
      "only showing top 5 rows\n",
      "\n"
     ]
    }
   ],
   "source": [
    "df_lis = spark.read.option('header', 'true').csv(\"data/listings.csv\", inferSchema=True)\n",
    "df_lis.show(5)"
   ]
  },
  {
   "cell_type": "code",
   "execution_count": 62,
   "metadata": {},
   "outputs": [
    {
     "name": "stdout",
     "output_type": "stream",
     "text": [
      "root\n",
      " |-- id_listing_anon: string (nullable = true)\n",
      " |-- room_type: string (nullable = true)\n",
      " |-- listing_neighborhood: string (nullable = true)\n",
      " |-- total_reviews: double (nullable = true)\n",
      "\n"
     ]
    }
   ],
   "source": [
    "df_lis.printSchema()"
   ]
  },
  {
   "cell_type": "code",
   "execution_count": 63,
   "metadata": {},
   "outputs": [
    {
     "name": "stdout",
     "output_type": "stream",
     "text": [
      "Number of duplicate rows: 0\n"
     ]
    }
   ],
   "source": [
    "count_dup_rows = df_lis.count() - df_lis.distinct().count()\n",
    "print(f\"Number of duplicate rows: {count_dup_rows}\")"
   ]
  },
  {
   "cell_type": "code",
   "execution_count": 64,
   "metadata": {},
   "outputs": [
    {
     "name": "stdout",
     "output_type": "stream",
     "text": [
      "Number of Null values in each column: \n",
      "id_listing_anon :  0\n",
      "room_type :  0\n",
      "listing_neighborhood :  0\n",
      "total_reviews :  0\n"
     ]
    }
   ],
   "source": [
    "Dict_Null = {col:df_lis.filter(df_lis[col].isNull()).count() for col in df_lis.columns}\n",
    "print(f\"Number of Null values in each column: \")\n",
    "for key, value in Dict_Null.items():\n",
    "    print(key, \": \", value)"
   ]
  },
  {
   "cell_type": "markdown",
   "metadata": {},
   "source": [
    "## users.csv"
   ]
  },
  {
   "cell_type": "code",
   "execution_count": 65,
   "metadata": {},
   "outputs": [
    {
     "name": "stdout",
     "output_type": "stream",
     "text": [
      "+--------------------+-------+---------------------+\n",
      "|        id_user_anon|country|words_in_user_profile|\n",
      "+--------------------+-------+---------------------+\n",
      "|1d16a001-31a2-494...|     FR|                    0|\n",
      "|42607e0a-86c0-472...|     AR|                    0|\n",
      "|25f85eb5-a700-44e...|     BR|                    0|\n",
      "|55abeba0-18ef-4c5...|     BR|                    1|\n",
      "|5d62d35a-7d6d-45d...|     BR|                   98|\n",
      "+--------------------+-------+---------------------+\n",
      "only showing top 5 rows\n",
      "\n"
     ]
    }
   ],
   "source": [
    "df_user = spark.read.option('header', 'true').csv(\"data/users.csv\", inferSchema=True)\n",
    "df_user.show(5)"
   ]
  },
  {
   "cell_type": "code",
   "execution_count": 66,
   "metadata": {},
   "outputs": [
    {
     "name": "stdout",
     "output_type": "stream",
     "text": [
      "root\n",
      " |-- id_user_anon: string (nullable = true)\n",
      " |-- country: string (nullable = true)\n",
      " |-- words_in_user_profile: integer (nullable = true)\n",
      "\n"
     ]
    }
   ],
   "source": [
    "df_user.printSchema()"
   ]
  },
  {
   "cell_type": "code",
   "execution_count": 67,
   "metadata": {},
   "outputs": [
    {
     "name": "stdout",
     "output_type": "stream",
     "text": [
      "Number of duplicate rows: 68\n"
     ]
    }
   ],
   "source": [
    "count_dup_rows = df_user.count() - df_user.distinct().count()\n",
    "print(f\"Number of duplicate rows: {count_dup_rows}\")"
   ]
  },
  {
   "cell_type": "code",
   "execution_count": 68,
   "metadata": {},
   "outputs": [],
   "source": [
    "df_user = df_user.dropDuplicates()"
   ]
  },
  {
   "cell_type": "code",
   "execution_count": 69,
   "metadata": {},
   "outputs": [
    {
     "name": "stdout",
     "output_type": "stream",
     "text": [
      "Number of duplicate rows: 0\n"
     ]
    }
   ],
   "source": [
    "count_dup_rows = df_user.count() - df_user.distinct().count()\n",
    "print(f\"Number of duplicate rows: {count_dup_rows}\")"
   ]
  },
  {
   "cell_type": "code",
   "execution_count": 70,
   "metadata": {},
   "outputs": [
    {
     "name": "stdout",
     "output_type": "stream",
     "text": [
      "Number of Null values in each column: \n",
      "id_user_anon :  0\n",
      "country :  0\n",
      "words_in_user_profile :  0\n"
     ]
    }
   ],
   "source": [
    "Dict_Null = {col:df_user.filter(df_user[col].isNull()).count() for col in df_user.columns}\n",
    "print(f\"Number of Null values in each column: \")\n",
    "for key, value in Dict_Null.items():\n",
    "    print(key, \": \", value)"
   ]
  },
  {
   "cell_type": "markdown",
   "metadata": {},
   "source": [
    "## Explore Listings"
   ]
  },
  {
   "cell_type": "code",
   "execution_count": 71,
   "metadata": {},
   "outputs": [
    {
     "name": "stdout",
     "output_type": "stream",
     "text": [
      "+--------------------+---------------+-------------+\n",
      "|listing_neighborhood|      room_type|total_reviews|\n",
      "+--------------------+---------------+-------------+\n",
      "|        Santa Teresa|   Private room|        268.0|\n",
      "|             Ipanema|Entire home/apt|        209.0|\n",
      "|          Copacabana|Entire home/apt|        185.0|\n",
      "|        Santa Teresa|Entire home/apt|        182.0|\n",
      "|          Copacabana|Entire home/apt|        182.0|\n",
      "|          Copacabana|Entire home/apt|        174.0|\n",
      "|        Santa Teresa|   Private room|        165.0|\n",
      "|                Lapa|Entire home/apt|        163.0|\n",
      "|          Copacabana|Entire home/apt|        162.0|\n",
      "|            Botafogo|   Private room|        162.0|\n",
      "|          Copacabana|Entire home/apt|        159.0|\n",
      "|          Copacabana|Entire home/apt|        150.0|\n",
      "|               Lagoa|Entire home/apt|        149.0|\n",
      "|             Ipanema|   Private room|        148.0|\n",
      "|          Copacabana|Entire home/apt|        147.0|\n",
      "|        Santa Teresa|Entire home/apt|        144.0|\n",
      "|             Ipanema|Entire home/apt|        142.0|\n",
      "|             Ipanema|Entire home/apt|        141.0|\n",
      "|          Copacabana|   Private room|        139.0|\n",
      "|          Copacabana|Entire home/apt|        139.0|\n",
      "+--------------------+---------------+-------------+\n",
      "only showing top 20 rows\n",
      "\n"
     ]
    }
   ],
   "source": [
    "df_lis.orderBy(\"total_reviews\", ascending=False).select(\"listing_neighborhood\", \"room_type\", \"total_reviews\").show()"
   ]
  },
  {
   "cell_type": "code",
   "execution_count": 72,
   "metadata": {},
   "outputs": [
    {
     "name": "stdout",
     "output_type": "stream",
     "text": [
      "+---------------+-----+\n",
      "|      room_type|count|\n",
      "+---------------+-----+\n",
      "|    Shared room|  372|\n",
      "|Entire home/apt| 9647|\n",
      "|   Private room| 3019|\n",
      "+---------------+-----+\n",
      "\n"
     ]
    }
   ],
   "source": [
    "df_lis.groupBy(\"room_type\").count().show()"
   ]
  },
  {
   "cell_type": "code",
   "execution_count": 73,
   "metadata": {},
   "outputs": [
    {
     "name": "stdout",
     "output_type": "stream",
     "text": [
      "+--------------------+-----+\n",
      "|listing_neighborhood|count|\n",
      "+--------------------+-----+\n",
      "|           -unknown-| 6221|\n",
      "|          Copacabana| 2531|\n",
      "|             Ipanema| 1041|\n",
      "|     Barra da Tijuca|  593|\n",
      "|              Leblon|  458|\n",
      "|            Botafogo|  345|\n",
      "|        Santa Teresa|  243|\n",
      "|            Flamengo|  171|\n",
      "|                Lapa|  171|\n",
      "|                Leme|  168|\n",
      "|Recreio dos Bande...|  164|\n",
      "|         Laranjeiras|  120|\n",
      "|              Tijuca|   82|\n",
      "|               Lagoa|   68|\n",
      "|              Glória|   68|\n",
      "|              Catete|   59|\n",
      "|               Gávea|   54|\n",
      "|     Jardim Botânico|   52|\n",
      "|              Centro|   51|\n",
      "|             Humaitá|   43|\n",
      "+--------------------+-----+\n",
      "only showing top 20 rows\n",
      "\n"
     ]
    }
   ],
   "source": [
    "df_lis.groupBy(\"listing_neighborhood\").count().sort(\"count\", ascending=False).show()"
   ]
  },
  {
   "cell_type": "markdown",
   "metadata": {},
   "source": [
    "## Explore users"
   ]
  },
  {
   "cell_type": "code",
   "execution_count": 74,
   "metadata": {},
   "outputs": [
    {
     "name": "stdout",
     "output_type": "stream",
     "text": [
      "+-------+-----+\n",
      "|country|count|\n",
      "+-------+-----+\n",
      "|     BR|19568|\n",
      "|     US| 2878|\n",
      "|     AR| 1770|\n",
      "|     FR| 1164|\n",
      "|     GB|  975|\n",
      "|     DE|  610|\n",
      "|     CL|  410|\n",
      "|     CA|  387|\n",
      "|     AU|  367|\n",
      "|     NL|  271|\n",
      "|     ES|  243|\n",
      "|     CO|  241|\n",
      "|     IT|  228|\n",
      "|     CH|  227|\n",
      "|     UY|  206|\n",
      "|     MX|  173|\n",
      "|     PE|  119|\n",
      "|     PT|  110|\n",
      "|     BE|  100|\n",
      "|     DK|   77|\n",
      "+-------+-----+\n",
      "only showing top 20 rows\n",
      "\n"
     ]
    }
   ],
   "source": [
    "df_user.groupBy(\"country\").count().sort(\"count\", ascending=False).show()"
   ]
  },
  {
   "cell_type": "markdown",
   "metadata": {},
   "source": [
    "## Join all tables"
   ]
  },
  {
   "cell_type": "code",
   "execution_count": 75,
   "metadata": {},
   "outputs": [
    {
     "name": "stdout",
     "output_type": "stream",
     "text": [
      "+--------------------+--------------------+--------------------+--------------------+-------------------+--------------------+-------------------+----------------+-----------------+--------+--------------+------------------------------------+---------------------+----------------------+--------------------+-------+---------------------+--------------------+---------------+--------------------+-------------+\n",
      "|       id_guest_anon|        id_host_anon|     id_listing_anon|ts_interaction_first|  ts_reply_at_first|ts_accepted_at_first|      ts_booking_at|ds_checkin_first|ds_checkout_first|m_guests|m_interactions|m_first_message_length_in_characters|contact_channel_first|guest_user_stage_first|        id_user_anon|country|words_in_user_profile|     id_listing_anon|      room_type|listing_neighborhood|total_reviews|\n",
      "+--------------------+--------------------+--------------------+--------------------+-------------------+--------------------+-------------------+----------------+-----------------+--------+--------------+------------------------------------+---------------------+----------------------+--------------------+-------+---------------------+--------------------+---------------+--------------------+-------------+\n",
      "|da8656a1-51af-4f3...|5426897d-960d-401...|a408a8b2-0d44-451...| 2016-04-21 02:55:53|2016-04-21 03:15:00| 2016-04-21 03:15:00|2016-04-21 03:15:00|      2016-08-02|       2016-08-06|     4.0|            30|                                31.0|              book_it|           past_booker|da8656a1-51af-4f3...|     CL|                    0|a408a8b2-0d44-451...|Entire home/apt|          Copacabana|          9.0|\n",
      "+--------------------+--------------------+--------------------+--------------------+-------------------+--------------------+-------------------+----------------+-----------------+--------+--------------+------------------------------------+---------------------+----------------------+--------------------+-------+---------------------+--------------------+---------------+--------------------+-------------+\n",
      "only showing top 1 row\n",
      "\n"
     ]
    }
   ],
   "source": [
    "df_joined = df_con.join(df_user, df_user.id_user_anon == df_con.id_guest_anon)\n",
    "df = df_joined.join(df_lis, df_lis.id_listing_anon == df_joined.id_listing_anon) \n",
    "df.show(1)"
   ]
  },
  {
   "cell_type": "markdown",
   "metadata": {},
   "source": [
    "## Are there seasonal trends in booking times, check-ins, or interactions?"
   ]
  },
  {
   "cell_type": "code",
   "execution_count": 76,
   "metadata": {},
   "outputs": [
    {
     "name": "stdout",
     "output_type": "stream",
     "text": [
      "Booking Trends by Month:\n",
      "+-------------+--------------+\n",
      "|booking_month|total_bookings|\n",
      "+-------------+--------------+\n",
      "|         NULL|         16300|\n",
      "|            6|          2167|\n",
      "|            1|          2103|\n",
      "|            5|          2047|\n",
      "|            2|          1796|\n",
      "|            3|          1764|\n",
      "|            4|          1675|\n",
      "|            7|            28|\n",
      "|            8|             6|\n",
      "|            9|             1|\n",
      "+-------------+--------------+\n",
      "\n",
      "Check-In Trends by Month:\n",
      "+-------------+--------------+\n",
      "|checkin_month|total_checkins|\n",
      "+-------------+--------------+\n",
      "|            8|          9455|\n",
      "|            2|          5185|\n",
      "|            3|          2497|\n",
      "|            4|          2385|\n",
      "|            5|          2114|\n",
      "|            6|          1811|\n",
      "|            7|          1807|\n",
      "|            1|          1365|\n",
      "|           12|           638|\n",
      "|            9|           350|\n",
      "|           10|           176|\n",
      "|           11|           104|\n",
      "+-------------+--------------+\n",
      "\n",
      "Interaction Trends by Month and Hour:\n",
      "+-----------------+----------------+------------------+\n",
      "|interaction_month|interaction_hour|total_interactions|\n",
      "+-----------------+----------------+------------------+\n",
      "|                1|              15|               525|\n",
      "|                1|              16|               519|\n",
      "|                1|              17|               494|\n",
      "|                1|              18|               481|\n",
      "|                1|              19|               463|\n",
      "|                1|               0|               460|\n",
      "|                1|              21|               456|\n",
      "|                1|              22|               450|\n",
      "|                1|              13|               446|\n",
      "|                1|              23|               443|\n",
      "|                1|              14|               437|\n",
      "|                1|              20|               392|\n",
      "|                1|               1|               359|\n",
      "|                1|              12|               348|\n",
      "|                6|              19|               290|\n",
      "|                6|              14|               287|\n",
      "|                1|               2|               283|\n",
      "|                5|              19|               283|\n",
      "|                5|              21|               281|\n",
      "|                6|              18|               268|\n",
      "|                2|              19|               266|\n",
      "|                6|              20|               265|\n",
      "|                5|              20|               262|\n",
      "|                6|              22|               261|\n",
      "+-----------------+----------------+------------------+\n",
      "only showing top 24 rows\n",
      "\n"
     ]
    }
   ],
   "source": [
    "df_trends = df.select(\n",
    "    col(\"ts_booking_at\").cast(\"timestamp\").alias(\"booking_time\"),\n",
    "    col(\"ds_checkin_first\").cast(\"date\").alias(\"checkin_date\"),\n",
    "    col(\"ts_interaction_first\").cast(\"timestamp\").alias(\"interaction_time\")\n",
    ")\n",
    "\n",
    "df_trends = df_trends.withColumn(\"booking_month\", month(\"booking_time\")) \\\n",
    "                     .withColumn(\"booking_weekday\", dayofweek(\"booking_time\")) \\\n",
    "                     .withColumn(\"checkin_month\", month(\"checkin_date\")) \\\n",
    "                     .withColumn(\"interaction_month\", month(\"interaction_time\")) \\\n",
    "                     .withColumn(\"interaction_hour\", hour(\"interaction_time\"))\n",
    "\n",
    "\n",
    "# Booking trends by month\n",
    "booking_trends = df_trends.groupBy(\"booking_month\") \\\n",
    "    .agg(count(\"*\").alias(\"total_bookings\")) \\\n",
    "    .orderBy(\"total_bookings\", ascending=False)\n",
    "print(\"Booking Trends by Month:\")\n",
    "booking_trends.show()\n",
    "\n",
    "# Check-in trends by month\n",
    "checkin_trends = df_trends.groupBy(\"checkin_month\") \\\n",
    "    .agg(count(\"*\").alias(\"total_checkins\")) \\\n",
    "    .orderBy(\"total_checkins\", ascending=False)\n",
    "print(\"Check-In Trends by Month:\")\n",
    "checkin_trends.show()\n",
    "\n",
    "# Interaction trends by month and hour\n",
    "interaction_trends = df_trends.groupBy(\"interaction_month\", \"interaction_hour\") \\\n",
    "    .agg(count(\"*\").alias(\"total_interactions\")) \\\n",
    "    .orderBy(\"total_interactions\", ascending=False)\n",
    "print(\"Interaction Trends by Month and Hour:\")\n",
    "interaction_trends.show(24)"
   ]
  },
  {
   "cell_type": "markdown",
   "metadata": {},
   "source": [
    "## How does the timing of interactions affect the success rate of bookings?"
   ]
  },
  {
   "cell_type": "code",
   "execution_count": 77,
   "metadata": {},
   "outputs": [
    {
     "name": "stdout",
     "output_type": "stream",
     "text": [
      "+----------------------+------------------+--------------------+\n",
      "|time_to_booking_bucket|total_interactions|booking_success_rate|\n",
      "+----------------------+------------------+--------------------+\n",
      "|                    <0|               121|                 1.0|\n",
      "|                  3-7d|               183|                 1.0|\n",
      "|                  1-3d|               588|                 1.0|\n",
      "|                 6-12h|               599|                 1.0|\n",
      "|                12-24h|               719|                 1.0|\n",
      "|                  1-6h|              1300|                 1.0|\n",
      "|                  0-1h|              7943|                 1.0|\n",
      "|                   >7d|             16434|0.008153827430935864|\n",
      "+----------------------+------------------+--------------------+\n",
      "\n"
     ]
    }
   ],
   "source": [
    "df_timing = df.withColumn(\"interaction_time\", unix_timestamp(\"ts_interaction_first\")) \\\n",
    "              .withColumn(\"booking_time\", unix_timestamp(\"ts_booking_at\")) \\\n",
    "              .withColumn(\"is_successful\", when(col(\"ts_booking_at\").isNotNull(), 1).otherwise(0))\n",
    "\n",
    "# Calculate the time difference (in hours) between interaction and booking\n",
    "df_timing = df_timing.withColumn(\n",
    "    \"time_to_booking_hours\",\n",
    "    ((col(\"booking_time\") - col(\"interaction_time\")) / 3600).cast(\"double\")\n",
    ")\n",
    "\n",
    "time_bins = [\n",
    "    (-1, 0), (0, 1), (1, 6), (6, 12), (12, 24), (24, 72), (72, 168), (168, float(\"inf\"))\n",
    "]\n",
    "time_labels = [\"<0\", \"0-1h\", \"1-6h\", \"6-12h\", \"12-24h\", \"1-3d\", \"3-7d\", \">7d\"]\n",
    "\n",
    "df_timing_filtered = df_timing.filter((col(\"time_to_booking_hours\") >= 0) & \n",
    "                                      (col(\"time_to_booking_hours\") <= 168))\n",
    "\n",
    "df_timing = df_timing.withColumn(\n",
    "    \"time_to_booking_bucket\",\n",
    "    when(col(\"time_to_booking_hours\") < 0, \"<0\")\n",
    "    .when((col(\"time_to_booking_hours\") >= 0) & (col(\"time_to_booking_hours\") < 1), \"0-1h\")\n",
    "    .when((col(\"time_to_booking_hours\") >= 1) & (col(\"time_to_booking_hours\") < 6), \"1-6h\")\n",
    "    .when((col(\"time_to_booking_hours\") >= 6) & (col(\"time_to_booking_hours\") < 12), \"6-12h\")\n",
    "    .when((col(\"time_to_booking_hours\") >= 12) & (col(\"time_to_booking_hours\") < 24), \"12-24h\")\n",
    "    .when((col(\"time_to_booking_hours\") >= 24) & (col(\"time_to_booking_hours\") < 72), \"1-3d\")\n",
    "    .when((col(\"time_to_booking_hours\") >= 72) & (col(\"time_to_booking_hours\") < 168), \"3-7d\")\n",
    "    .otherwise(\">7d\")\n",
    ")\n",
    "\n",
    "# Aggregate success rates per bucket\n",
    "success_rate_df = df_timing.groupBy(\"time_to_booking_bucket\") \\\n",
    "    .agg(\n",
    "        count(\"*\").alias(\"total_interactions\"),\n",
    "        avg(\"is_successful\").alias(\"booking_success_rate\")\n",
    "    )\\\n",
    "    .orderBy(\"total_interactions\")\n",
    "\n",
    "success_rate_df.show()\n"
   ]
  },
  {
   "cell_type": "markdown",
   "metadata": {},
   "source": [
    "## Which countries have the quickest average reply times or highest acceptance rates?\n",
    "\n"
   ]
  },
  {
   "cell_type": "code",
   "execution_count": 78,
   "metadata": {},
   "outputs": [
    {
     "name": "stdout",
     "output_type": "stream",
     "text": [
      "+-------+------------------------+-------------------+\n",
      "|country|average_reply_time_hours|    acceptance_rate|\n",
      "+-------+------------------------+-------------------+\n",
      "|     CD|       480.0097222222222|                0.0|\n",
      "|     GE|      127.52055555555556|                0.0|\n",
      "|     DO|        92.9183024691358| 0.5555555555555556|\n",
      "|     RU|       69.46749305555558| 0.6136363636363636|\n",
      "|     KW|       68.41583333333332|               0.25|\n",
      "|     IN|       65.71635933806148|              0.625|\n",
      "|     ZA|       65.57135620915035| 0.5384615384615384|\n",
      "|     NA|       53.97138888888889|                0.0|\n",
      "|     SE|      41.359402777777774| 0.7710843373493976|\n",
      "|     LV|       39.32170634920635|0.42857142857142855|\n",
      "|     DK|       37.81549019607843| 0.7608695652173914|\n",
      "|     RE|      30.977500000000003|                1.0|\n",
      "|     KE|       27.24347222222222| 0.6666666666666666|\n",
      "|     MX|       26.94541666666666| 0.6428571428571429|\n",
      "|     UA|      26.802329059829063|                0.6|\n",
      "|     SM|      25.830092592592592|               0.25|\n",
      "|     RO|      25.666688034188034| 0.6428571428571429|\n",
      "|     AR|      22.755660231153122| 0.5356835769561479|\n",
      "|     PE|       18.38164786967419| 0.6827586206896552|\n",
      "|     ME|      18.359722222222224|                0.4|\n",
      "+-------+------------------------+-------------------+\n",
      "only showing top 20 rows\n",
      "\n"
     ]
    }
   ],
   "source": [
    "country_metrics = df.withColumn(\n",
    "    \"reply_time_hours\",\n",
    "    (col(\"ts_reply_at_first\").cast(\"long\") - col(\"ts_interaction_first\").cast(\"long\")) / 3600\n",
    ")\n",
    "\n",
    "country_metrics = country_metrics.groupBy(\"country\").agg(\n",
    "    avg(\"reply_time_hours\").alias(\"average_reply_time_hours\"),\n",
    "    (count(when(col(\"ts_accepted_at_first\").isNotNull(), 1)) / count(\"*\")).alias(\"acceptance_rate\")\n",
    ")\n",
    "\n",
    "country_metrics_sorted = country_metrics.orderBy(\"average_reply_time_hours\", \"acceptance_rate\", ascending=False)\n",
    "country_metrics_sorted.show()"
   ]
  },
  {
   "cell_type": "markdown",
   "metadata": {},
   "source": [
    "## How does neighborhood popularity or guest interaction behavior vary across regions?"
   ]
  },
  {
   "cell_type": "code",
   "execution_count": 89,
   "metadata": {},
   "outputs": [
    {
     "name": "stdout",
     "output_type": "stream",
     "text": [
      "Neighborhood_analysis: Grouping by neighborhood and calculating aggregated metrics:\n",
      "+--------------------+-------------+--------------------------+------------------------+----------------------+------------------+--------------------+\n",
      "|listing_neighborhood|unique_guests|avg_interactions_per_guest|avg_first_message_length|avg_guests_per_booking|       avg_reviews|    avg_booking_time|\n",
      "+--------------------+-------------+--------------------------+------------------------+----------------------+------------------+--------------------+\n",
      "|           -unknown-|        10376|         8.040750760906324|       191.8834122421373|    2.8143231588737634| 8.233513696313832|1.4598606301302834E9|\n",
      "|          Copacabana|         5980|         8.431132220009193|       197.1388080281906|    2.9149685920024515|22.292783821051017|1.4593859040534723E9|\n",
      "|             Ipanema|         2821|         8.225784903139612|      188.68470273881096|    2.8537074148296595|27.597862391449567|1.4592580806494699E9|\n",
      "|              Leblon|          962|         8.478942213516161|      179.19686581782565|    2.8628795298726737|16.474045053868757|1.4593184481413503E9|\n",
      "|     Barra da Tijuca|          938|         8.019038076152304|      178.77154308617236|    3.0390781563126255| 7.394789579158316|1.4602609472191782E9|\n",
      "|            Botafogo|          732|         7.864900662251656|      212.15099337748345|    2.2980132450331126| 17.96291390728477|1.4600653984983606E9|\n",
      "|        Santa Teresa|          570|         9.178268251273344|      227.69949066213923|     2.037351443123939| 35.44821731748727| 1.459243439874652E9|\n",
      "|            Flamengo|          444|         8.733041575492342|      181.23851203501093|    2.3063457330415753|25.229759299781183|1.4599655697802691E9|\n",
      "|                Lapa|          410|         9.108235294117646|      177.17411764705884|     2.063529411764706|31.501176470588234|1.4593938684204082E9|\n",
      "|                Leme|          382|         8.597435897435897|      204.65641025641025|    2.9025641025641025|14.594871794871795|1.4593679519834254E9|\n",
      "|Recreio dos Bande...|          225|         8.871244635193133|      191.68669527896995|     3.017167381974249|2.3218884120171674|1.4611462356989248E9|\n",
      "|         Laranjeiras|          191|         8.212121212121213|      195.25252525252526|    2.4545454545454546| 7.873737373737374|1.4597956218181818E9|\n",
      "|               Lagoa|          160|         7.608695652173913|      178.24844720496895|    2.6956521739130435|24.496894409937887|1.4590876213414633E9|\n",
      "|              Glória|          124|         9.134920634920634|      218.44444444444446|     2.515873015873016| 29.41269841269841|1.4582854786792452E9|\n",
      "|              Centro|          120|         8.155737704918034|      214.14754098360655|    1.9836065573770492|11.688524590163935|1.4589793646507936E9|\n",
      "|              Catete|          109|         8.336363636363636|      210.54545454545453|    2.2363636363636363|10.181818181818182|1.4601333292051282E9|\n",
      "|              Tijuca|          107|         8.174311926605505|      233.26605504587155|     1.963302752293578|3.4954128440366974|   1.4585132546875E9|\n",
      "|             Vidigal|          105|          9.39047619047619|      269.95238095238096|                   2.2| 48.55238095238095|1.4572858255714285E9|\n",
      "|               Gávea|           84|         11.69767441860465|       214.7093023255814|     3.127906976744186| 4.453488372093023|1.4588925739444444E9|\n",
      "|     Jardim Botânico|           76|         7.253164556962025|      210.59493670886076|    2.5949367088607596|1.7974683544303798|1.4598039044615386E9|\n",
      "+--------------------+-------------+--------------------------+------------------------+----------------------+------------------+--------------------+\n",
      "only showing top 20 rows\n",
      "\n",
      "Show the country-level interaction analysis:\n",
      "+-------+------------------+----------------------+------------------+\n",
      "|country|  avg_interactions|avg_guests_per_booking|       avg_reviews|\n",
      "+-------+------------------+----------------------+------------------+\n",
      "|     LT|10.862068965517242|     2.413793103448276| 15.89655172413793|\n",
      "|     FI| 9.218181818181819|    2.2181818181818183|19.563636363636363|\n",
      "|     AZ|              16.0|                   4.0|              17.0|\n",
      "|     UA|13.466666666666667|    1.5333333333333334|11.666666666666666|\n",
      "|     RO| 5.285714285714286|    2.4285714285714284|47.214285714285715|\n",
      "|     NL| 9.369085173501578|    2.3406940063091484|18.470031545741325|\n",
      "|     BS|12.333333333333334|                   3.0|0.3333333333333333|\n",
      "|     MN|              11.0|                   2.0|              45.0|\n",
      "|     PL| 7.617021276595745|     2.382978723404255| 23.48936170212766|\n",
      "|     RE|               9.0|    3.6666666666666665| 4.333333333333333|\n",
      "|     MK|               1.0|                   2.0|               0.0|\n",
      "|     MX| 9.533333333333333|    2.4285714285714284|11.752380952380953|\n",
      "|     PF|              29.0|                   4.0|              29.0|\n",
      "|     EE| 8.857142857142858|    1.7857142857142858| 8.857142857142858|\n",
      "|     SM|              7.75|                   3.0|              5.75|\n",
      "|     CN|           11.1375|                 2.675|            13.425|\n",
      "|     AT|10.475409836065573|    2.1639344262295084| 23.59016393442623|\n",
      "|     RU| 9.602272727272727|    2.0454545454545454|13.295454545454545|\n",
      "|     NA|               3.0|                   4.0|               0.0|\n",
      "|     IQ|               1.0|                   7.0|               3.0|\n",
      "+-------+------------------+----------------------+------------------+\n",
      "only showing top 20 rows\n",
      "\n"
     ]
    }
   ],
   "source": [
    "neighborhood_analysis = df.groupBy(\"listing_neighborhood\").agg(\n",
    "    F.countDistinct(\"id_guest_anon\").alias(\"unique_guests\"),\n",
    "    F.avg(\"m_interactions\").alias(\"avg_interactions_per_guest\"),\n",
    "    F.avg(\"m_first_message_length_in_characters\").alias(\"avg_first_message_length\"),\n",
    "    F.avg(\"m_guests\").alias(\"avg_guests_per_booking\"),\n",
    "    F.avg(\"total_reviews\").alias(\"avg_reviews\"),\n",
    "    F.avg(\"ts_booking_at\").alias(\"avg_booking_time\")\n",
    ").orderBy(\"unique_guests\", ascending=False)\n",
    "print(\"Neighborhood_analysis: Grouping by neighborhood and calculating aggregated metrics:\")\n",
    "neighborhood_analysis.show()\n",
    "\n",
    "\n",
    "country_analysis = df.groupBy(\"country\").agg(\n",
    "    F.avg(\"m_interactions\").alias(\"avg_interactions\"),\n",
    "    F.avg(\"m_guests\").alias(\"avg_guests_per_booking\"),\n",
    "    F.avg(\"total_reviews\").alias(\"avg_reviews\"),\n",
    ")\n",
    "\n",
    "print(\"Show the country-level interaction analysis:\")\n",
    "country_analysis.show()\n"
   ]
  }
 ],
 "metadata": {
  "kernelspec": {
   "display_name": "Python 3.10.15 64-bit",
   "language": "python",
   "name": "python3"
  },
  "language_info": {
   "codemirror_mode": {
    "name": "ipython",
    "version": 3
   },
   "file_extension": ".py",
   "mimetype": "text/x-python",
   "name": "python",
   "nbconvert_exporter": "python",
   "pygments_lexer": "ipython3",
   "version": "3.10.15"
  },
  "orig_nbformat": 4,
  "vscode": {
   "interpreter": {
    "hash": "bd385fe162c5ca0c84973b7dd5c518456272446b2b64e67c2a69f949ca7a1754"
   }
  }
 },
 "nbformat": 4,
 "nbformat_minor": 2
}
