{
 "cells": [
  {
   "cell_type": "code",
   "execution_count": null,
   "metadata": {},
   "outputs": [],
   "source": [
    "import pandas as pd\n",
    "import numpy as np\n",
    "import itertools\n",
    "from sklearn.metrics import accuracy_score\n",
    "from sklearn.linear_model import LogisticRegression\n",
    "from sklearn.model_selection import train_test_split"
   ]
  },
  {
   "cell_type": "markdown",
   "metadata": {},
   "source": [
    "### Data preparation ###"
   ]
  },
  {
   "cell_type": "code",
   "execution_count": 734,
   "metadata": {},
   "outputs": [],
   "source": [
    "# Load the CSV files\n",
    "contacts = pd.read_csv(\"contacts.csv\")\n",
    "users = pd.read_csv(\"users.csv\")\n",
    "listings = pd.read_csv(\"listings.csv\")"
   ]
  },
  {
   "cell_type": "code",
   "execution_count": 735,
   "metadata": {},
   "outputs": [],
   "source": [
    "# Merge contacts with users for guest details\n",
    "data = contacts.merge(users, left_on=\"id_guest_anon\", right_on=\"id_user_anon\", how=\"left\")\n",
    "data.rename(columns={\"country\": \"country_guest\", \"words_in_user_profile\": \"words_in_guest_profile\"}, inplace=True)\n",
    "\n",
    "# Merge with users again for host details\n",
    "data = data.merge(users, left_on=\"id_host_anon\", right_on=\"id_user_anon\", how=\"left\", suffixes=(\"\", \"_host\"))\n",
    "data.rename(columns={\"country\": \"country_host\", \"words_in_user_profile\": \"words_in_host_profile\"}, inplace=True)\n",
    "\n",
    "# Merge with listings\n",
    "data = data.merge(listings, on=\"id_listing_anon\", how=\"left\")"
   ]
  },
  {
   "cell_type": "code",
   "execution_count": 736,
   "metadata": {},
   "outputs": [],
   "source": [
    "# Select and reorder columns\n",
    "columns = [\n",
    "    \"id_guest_anon\", \"country_guest\", \"words_in_guest_profile\",\n",
    "    \"id_host_anon\", \"country_host\", \"words_in_host_profile\",\n",
    "    \"id_listing_anon\", \"room_type\", \"listing_neighborhood\", \"total_reviews\",\n",
    "    \"ts_interaction_first\", \"ts_reply_at_first\", \"ts_accepted_at_first\", \"ts_booking_at\",\n",
    "    \"ds_checkin_first\", \"ds_checkout_first\",\n",
    "    \"m_guests\", \"m_interactions\", \"m_first_message_length_in_characters\",\n",
    "    \"contact_channel_first\", \"guest_user_stage_first\"\n",
    "]\n",
    "data = data[columns]\n",
    "\n",
    "# Save to data.csv\n",
    "data.to_csv(\"data.csv\", index=False)"
   ]
  },
  {
   "cell_type": "markdown",
   "metadata": {},
   "source": [
    "### Data cleaning ###"
   ]
  },
  {
   "cell_type": "code",
   "execution_count": 737,
   "metadata": {},
   "outputs": [],
   "source": [
    "# Filter out rows with total_reviews < 0\n",
    "data = data[data['total_reviews'] >= 0]\n",
    "\n",
    "# Reset the index for clean output\n",
    "data.reset_index(drop=True, inplace=True)"
   ]
  },
  {
   "cell_type": "code",
   "execution_count": 738,
   "metadata": {},
   "outputs": [],
   "source": [
    "# Remove rows where m_guests == 0\n",
    "data = data[data['m_guests'] > 0]"
   ]
  },
  {
   "cell_type": "code",
   "execution_count": 748,
   "metadata": {},
   "outputs": [],
   "source": [
    "# Convert timestamps to datetime\n",
    "def clean_and_convert_to_datetime(ts_value):\n",
    "    ts_str = str(ts_value)\n",
    "    \n",
    "    # If length is not 19, remove last 2 characters\n",
    "    if len(ts_str) != 19:\n",
    "        ts_str = ts_str[:-2]\n",
    "    \n",
    "    # Convert to datetime format\n",
    "    return pd.to_datetime(ts_str, errors='coerce')"
   ]
  },
  {
   "cell_type": "code",
   "execution_count": null,
   "metadata": {},
   "outputs": [],
   "source": [
    "# Apply the function to the 'ts_interaction_first' column\n",
    "data['ts_interaction_first'] = data['ts_interaction_first'].apply(clean_and_convert_to_datetime)"
   ]
  },
  {
   "cell_type": "code",
   "execution_count": 758,
   "metadata": {},
   "outputs": [],
   "source": [
    "data['ts_reply_at_first'] = data['ts_reply_at_first'].apply(clean_and_convert_to_datetime)"
   ]
  },
  {
   "cell_type": "code",
   "execution_count": 770,
   "metadata": {},
   "outputs": [],
   "source": [
    "data['ds_checkin_first'] = pd.to_datetime(data['ds_checkin_first'], errors='coerce')\n",
    "data['ds_checkout_first'] = pd.to_datetime(data['ds_checkout_first'], errors='coerce')"
   ]
  },
  {
   "cell_type": "markdown",
   "metadata": {},
   "source": [
    "### Data changing ###"
   ]
  },
  {
   "cell_type": "code",
   "execution_count": 771,
   "metadata": {},
   "outputs": [],
   "source": [
    "# Ensure m_guests is an integer column\n",
    "data['m_guests'] = data['m_guests'].astype(int)"
   ]
  },
  {
   "cell_type": "code",
   "execution_count": 772,
   "metadata": {},
   "outputs": [],
   "source": [
    "data['booked'] = data['ts_booking_at'].notna().astype(int)"
   ]
  },
  {
   "cell_type": "code",
   "execution_count": 773,
   "metadata": {},
   "outputs": [],
   "source": [
    "# Calculate response time in hours\n",
    "data['response_time_minutes'] = ((data['ts_reply_at_first'] - data['ts_interaction_first']).dt.total_seconds() / 60)\n",
    "data['response_time_minutes'] = data['response_time_minutes'].fillna(99999)"
   ]
  },
  {
   "cell_type": "code",
   "execution_count": 775,
   "metadata": {},
   "outputs": [],
   "source": [
    "# Calculate the difference in days\n",
    "data['stay_duration_days'] = (data['ds_checkout_first'] - data['ds_checkin_first']).dt.days"
   ]
  },
  {
   "cell_type": "code",
   "execution_count": 776,
   "metadata": {},
   "outputs": [],
   "source": [
    "# Calculate the time difference in minutes\n",
    "data['interaction_to_checkin_days'] = (data['ds_checkin_first'] - data['ts_interaction_first']).dt.days"
   ]
  },
  {
   "cell_type": "code",
   "execution_count": 755,
   "metadata": {},
   "outputs": [],
   "source": [
    "# Replace the 'room_type' values with corresponding numerical values\n",
    "data['room_type'] = data['room_type'].replace({\n",
    "    'Shared room': 1,\n",
    "    'Private room': 2,\n",
    "    'Entire home/apt': 3\n",
    "})"
   ]
  },
  {
   "cell_type": "code",
   "execution_count": 756,
   "metadata": {},
   "outputs": [],
   "source": [
    "# Replace 'new' with 0 and 'past_booker' with 1\n",
    "data['guest_user_stage_first'] = data['guest_user_stage_first'].replace({\n",
    "    'new': 0,\n",
    "    '-unknown-': 1,\n",
    "    'past_booker': 2\n",
    "})"
   ]
  },
  {
   "cell_type": "markdown",
   "metadata": {},
   "source": [
    "### Host ###"
   ]
  },
  {
   "cell_type": "code",
   "execution_count": 777,
   "metadata": {},
   "outputs": [
    {
     "name": "stdout",
     "output_type": "stream",
     "text": [
      "Best feature combination: ('total_reviews', 'words_in_guest_profile', 'm_first_message_length_in_characters', 'stay_duration_days', 'response_time_minutes', 'room_type')\n",
      "Best accuracy: 0.7359\n"
     ]
    }
   ],
   "source": [
    "# List of available feature columns\n",
    "all_columns = ['total_reviews', 'm_guests', 'words_in_guest_profile', 'words_in_host_profile', 'm_first_message_length_in_characters',\n",
    "               'stay_duration_days', 'response_time_minutes', 'interaction_to_checkin_days', 'room_type', 'guest_user_stage_first']  # Add all your feature columns here\n",
    "\n",
    "# Prepare the target variable\n",
    "y = data['booked']\n",
    "\n",
    "best_accuracy = 0\n",
    "best_features = []\n",
    "\n",
    "# Iterate over all possible combinations of feature columns\n",
    "for n in range(1, len(all_columns) + 1):  # n is the number of features in each combination\n",
    "    for feature_combo in itertools.combinations(all_columns, n):\n",
    "        X = data[list(feature_combo)]  # Select columns based on the combination\n",
    "        \n",
    "        # Split the data into training and test sets\n",
    "        X_train, X_test, y_train, y_test = train_test_split(X, y, test_size=0.2, random_state=42)\n",
    "\n",
    "        # Create and fit the model\n",
    "        model = LogisticRegression(max_iter=1000)\n",
    "        model.fit(X_train, y_train)\n",
    "\n",
    "        # Make predictions\n",
    "        probabilities = model.predict_proba(X_test)[:, 1]  # Probabilities for class 1 (book=1)\n",
    "        predictions = (probabilities >= 0.5).astype(int)\n",
    "\n",
    "        # Calculate accuracy\n",
    "        accuracy = accuracy_score(y_test, predictions)\n",
    "        \n",
    "        # Keep track of the best combination of features\n",
    "        if accuracy > best_accuracy:\n",
    "            best_accuracy = accuracy\n",
    "            best_features = feature_combo\n",
    "\n",
    "# Output the best combination and the corresponding accuracy\n",
    "print(f\"Best feature combination: {best_features}\")\n",
    "print(f\"Best accuracy: {best_accuracy:.4f}\")"
   ]
  },
  {
   "cell_type": "code",
   "execution_count": 784,
   "metadata": {},
   "outputs": [
    {
     "name": "stdout",
     "output_type": "stream",
     "text": [
      "Accuracy: 73.59%\n"
     ]
    }
   ],
   "source": [
    "X = data[list(best_features)]  # Select columns based on the combination\n",
    "        \n",
    "# Split the data into training and test sets\n",
    "X_train, X_test, y_train, y_test = train_test_split(X, y, test_size=0.2, random_state=42)\n",
    "\n",
    "# Create and fit the model\n",
    "model = LogisticRegression(max_iter=1000)\n",
    "model.fit(X_train, y_train)\n",
    "\n",
    "# Make predictions\n",
    "probabilities = model.predict_proba(X_test)[:, 1]  # Probabilities for class 1 (book=1)\n",
    "predictions = (probabilities >= 0.5).astype(int)\n",
    "\n",
    "# Calculate accuracy\n",
    "accuracy = accuracy_score(y_test, predictions)\n",
    "print(f\"Accuracy: {(accuracy*100):.2f}%\")"
   ]
  }
 ],
 "metadata": {
  "kernelspec": {
   "display_name": "Python 3",
   "language": "python",
   "name": "python3"
  },
  "language_info": {
   "codemirror_mode": {
    "name": "ipython",
    "version": 3
   },
   "file_extension": ".py",
   "mimetype": "text/x-python",
   "name": "python",
   "nbconvert_exporter": "python",
   "pygments_lexer": "ipython3",
   "version": "3.10.12"
  }
 },
 "nbformat": 4,
 "nbformat_minor": 2
}
